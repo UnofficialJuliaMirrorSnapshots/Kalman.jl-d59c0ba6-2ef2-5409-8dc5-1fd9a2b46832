{
 "cells": [
  {
   "cell_type": "markdown",
   "metadata": {},
   "source": [
    "# Maximum likelihood estimation with Kalman filter and automatic differentiation\n",
    "\n",
    "### This notebook shows how to use `Kalman.jl` together with `ForwardDiff` to estimate the filter coefficients.\n"
   ]
  },
  {
   "cell_type": "code",
   "execution_count": 16,
   "metadata": {},
   "outputs": [],
   "source": [
    "!haskey(Pkg.installed(), \"GaussianDistributions\") && Pkg.clone(\"https://github.com/mschauer/GaussianDistributions.jl\")\n",
    "!haskey(Pkg.installed(), \"Kalman\") && Pkg.clone(\"https://github.com/mschauer/Kalman.jl\");"
   ]
  },
  {
   "cell_type": "code",
   "execution_count": 3,
   "metadata": {
    "collapsed": true
   },
   "outputs": [],
   "source": [
    "using Kalman\n",
    "using StaticArrays"
   ]
  },
  {
   "cell_type": "code",
   "execution_count": 4,
   "metadata": {
    "collapsed": true
   },
   "outputs": [],
   "source": [
    "using ForwardDiff\n",
    "using ForwardDiff: derivative, Dual"
   ]
  },
  {
   "cell_type": "markdown",
   "metadata": {},
   "source": [
    "## Define a parametrized linear statespace model with parameter `θ`"
   ]
  },
  {
   "cell_type": "code",
   "execution_count": null,
   "metadata": {
    "collapsed": true
   },
   "outputs": [],
   "source": [
    "M(θ) = let x0 = 1.0,\n",
    "    P0 = 1.0,\n",
    "\n",
    "    Phi = θ,\n",
    "    b = 0.0,\n",
    "    Q = 1.0,\n",
    "\n",
    "    y = NaN,\n",
    "    H = 1.0,\n",
    "    R = 1.0\n",
    "    LinearHomogSystem(x0, P0, Phi, b, Q, y, H, R)\n",
    "end"
   ]
  },
  {
   "cell_type": "markdown",
   "metadata": {},
   "source": [
    "## Generate test data with `θ0 = 1.0`"
   ]
  },
  {
   "cell_type": "code",
   "execution_count": 5,
   "metadata": {},
   "outputs": [
    {
     "data": {
      "text/plain": [
       "Kalman.LinearHomogSystem{Float64,Float64,Float64,Float64,Float64,Float64}(1.0, 1.0, 1.0, 0.0, 1.0, NaN, 1.0, 1.0)"
      ]
     },
     "execution_count": 5,
     "metadata": {},
     "output_type": "execute_result"
    }
   ],
   "source": [
    "θ0 = 1.0\n",
    "M0 = M(θ0)"
   ]
  },
  {
   "cell_type": "code",
   "execution_count": 20,
   "metadata": {},
   "outputs": [
    {
     "data": {
      "text/plain": [
       "([-0.705703 2.23168 … 1.50842 -1.4713; 0.673827 1.59258 … -1.08131 0.373971; … ; -13.3379 1.92383 … -1.1129 7.97751; -11.3865 -0.263185 … -1.97939 8.67953], [0.307742 1.15844 … 1.10713 -0.595886; 1.35578 1.06846 … -1.13856 -0.310503; … ; -12.6372 0.957971 … -0.539456 7.54155; -12.2364 -0.104968 … -1.23302 8.36806])"
      ]
     },
     "execution_count": 20,
     "metadata": {},
     "output_type": "execute_result"
    }
   ],
   "source": [
    "n = 100\n",
    "k = 10\n",
    "Y, X0 = sample(n, k, M0)"
   ]
  },
  {
   "cell_type": "markdown",
   "metadata": {},
   "source": [
    "## Define iterator that sums the marginal log likelihood of the data"
   ]
  },
  {
   "cell_type": "code",
   "execution_count": 7,
   "metadata": {},
   "outputs": [],
   "source": [
    "f(t, x, P, Ppred, ll, K) = ll\n",
    "import Kalman: mappedreturntype\n",
    "Kalman.mappedreturntype(_, ::Type{typeof(f)}) = Float64"
   ]
  },
  {
   "cell_type": "code",
   "execution_count": 8,
   "metadata": {
    "scrolled": true
   },
   "outputs": [
    {
     "data": {
      "text/plain": [
       "target (generic function with 2 methods)"
      ]
     },
     "execution_count": 8,
     "metadata": {},
     "output_type": "execute_result"
    }
   ],
   "source": [
    "target(x) = sum(sum(MappedKalmanFilter(zip(Base.Iterators.countfrom(1),view(Y, :, j)), M(x), f)) for j in 1:k)\n",
    "target(v::SVector{1}) = target(v[1])"
   ]
  },
  {
   "cell_type": "markdown",
   "metadata": {},
   "source": [
    "## Fit `θ` using Newton with automatic derivatives"
   ]
  },
  {
   "cell_type": "code",
   "execution_count": 14,
   "metadata": {},
   "outputs": [
    {
     "name": "stdout",
     "output_type": "stream",
     "text": [
      "0.7\n",
      "1.119214625197172\n",
      "0.9794681320562197\n",
      "0.9878044690148431\n",
      "0.9877983862786246\n",
      "0.9877983862765932\n",
      "Maximum llikelihood estimate: θ = 0.9877983862765932\n"
     ]
    }
   ],
   "source": [
    "θ = 0.7\n",
    "println(θ)\n",
    "target2(v) = target(v[1])\n",
    "for it in 1:10\n",
    "    θold = θ\n",
    "    θ = θ - inv(ForwardDiff.hessian(target2, SVector{1}(θ))[1])*ForwardDiff.derivative(target, θ)\n",
    "    θold == θ && break    \n",
    "    println(θ)\n",
    "end\n",
    "println(\"Maximum llikelihood estimate: θ = $θ\")"
   ]
  }
 ],
 "metadata": {
  "kernelspec": {
   "display_name": "Julia 0.6.2",
   "language": "julia",
   "name": "julia-0.6"
  },
  "language_info": {
   "file_extension": ".jl",
   "mimetype": "application/julia",
   "name": "julia",
   "version": "0.6.2"
  }
 },
 "nbformat": 4,
 "nbformat_minor": 2
}
